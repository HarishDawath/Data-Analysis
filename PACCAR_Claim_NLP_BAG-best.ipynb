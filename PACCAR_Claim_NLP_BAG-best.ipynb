{
 "cells": [
  {
   "cell_type": "code",
   "execution_count": 1,
   "metadata": {},
   "outputs": [],
   "source": [
    "import pandas as pd\n",
    "import numpy as np\n",
    "import nltk\n",
    "from nltk.corpus import *\n",
    "from nltk.tokenize import TweetTokenizer\n",
    "import datetime\n",
    "from scipy import stats\n",
    "from scipy.sparse import hstack, csr_matrix\n",
    "from sklearn.model_selection import train_test_split, cross_val_score\n",
    "from collections import Counter\n",
    "from nltk.stem import PorterStemmer\n",
    "from nltk.stem import WordNetLemmatizer\n",
    "from nltk.corpus import stopwords\n",
    "#from nltk.corpus import puntk\n",
    "from nltk.util import ngrams\n",
    "from sklearn.feature_extraction.text import TfidfVectorizer\n",
    "from sklearn.preprocessing import StandardScaler\n",
    "############# ML#######\n",
    "from sklearn.linear_model import LogisticRegression\n",
    "from sklearn.svm import LinearSVC\n",
    "from sklearn.multiclass import OneVsRestClassifier\n",
    "from nltk.tokenize import word_tokenize\n",
    "from sklearn.metrics import confusion_matrix\n",
    "import re, string\n",
    "from sklearn.ensemble import RandomForestClassifier"
   ]
  },
  {
   "cell_type": "code",
   "execution_count": 58,
   "metadata": {},
   "outputs": [
    {
     "name": "stderr",
     "output_type": "stream",
     "text": [
      "C:\\ProgramData\\Anaconda3\\lib\\site-packages\\IPython\\core\\interactiveshell.py:2785: DtypeWarning: Columns (4,18,20,58) have mixed types. Specify dtype option on import or set low_memory=False.\n",
      "  interactivity=interactivity, compiler=compiler, result=result)\n"
     ]
    }
   ],
   "source": [
    "New_claim = pd.read_csv('D:/PACCAR/Primary tables/dbo.NewClaims_table.csv')"
   ]
  },
  {
   "cell_type": "code",
   "execution_count": 59,
   "metadata": {},
   "outputs": [],
   "source": [
    "New_claim = New_claim[(New_claim.ClmStat == \"AP\") | (New_claim.ClmStat == \"RJ\") ]\n",
    "New_claim.ClmStat.replace(['AP'],0 , inplace= True)\n",
    "New_claim.ClmStat.replace(['RJ'],1 , inplace= True)\n",
    "X_train, X_test, y_train, y_test = train_test_split( New_claim.drop(['ClmStat'], axis=1),New_claim.ClmStat, test_size=0.2)"
   ]
  },
  {
   "cell_type": "code",
   "execution_count": 60,
   "metadata": {},
   "outputs": [],
   "source": [
    "from nltk.stem import SnowballStemmer,WordNetLemmatizer\n",
    "stemmer=SnowballStemmer('english')\n",
    "lemma=WordNetLemmatizer()\n"
   ]
  },
  {
   "cell_type": "code",
   "execution_count": 61,
   "metadata": {},
   "outputs": [],
   "source": [
    "def clean_review(review_col):\n",
    "    review_corpus=[]\n",
    "    stop_words =(stopwords.words('english'))\n",
    "    stop_words1= set(['for', 'has', 'not', 'to','of','the','is','and','will'])\n",
    "    stop_words = set(stop_words)\n",
    "    for i in range(0,len(review_col)):\n",
    "        review=str(review_col[i])\n",
    "        review=re.sub('[^a-zA-Z]',' ',review)\n",
    "        review=re.sub(r\"(\\S)\\ {2,}(\\S)(\\n?)\", r\"\\1|\\2\\3\", review)\n",
    "        remove = '|'.join(stop_words1)\n",
    "        regex = re.compile(r'('+remove+r')', flags=re.IGNORECASE)\n",
    "        review = regex.sub(\"\", review)\n",
    "        review=[stemmer.stem(w) for w in word_tokenize(str(review).lower())]\n",
    "        #review= [PorterStemmer(w) for w in word_tokenize(str(review)]\n",
    "        review=[w for w in str(review).split() if not w in stop_words]\n",
    "        review=[lemma.lemmatize(w) for w in word_tokenize(str(review).lower())]\n",
    "        #review=[w for w in str(review).split() if not w in stop_words]\n",
    "        review=[w for w in word_tokenize(str(review)) if len(w)>3]\n",
    "        #review=' '.join( [w for w in review if len(w)>2] )\n",
    "        review=' '.join(review)\n",
    "        review_corpus.append(review)\n",
    "    return review_corpus"
   ]
  },
  {
   "cell_type": "code",
   "execution_count": 62,
   "metadata": {},
   "outputs": [],
   "source": [
    "X_train['clean_review']=clean_review(X_train[['Complaint','Cause']].values)"
   ]
  },
  {
   "cell_type": "code",
   "execution_count": 63,
   "metadata": {},
   "outputs": [],
   "source": [
    "X_test['clean_review']=clean_review(X_test[['Complaint','Cause']].values)"
   ]
  },
  {
   "cell_type": "code",
   "execution_count": 8,
   "metadata": {},
   "outputs": [],
   "source": [
    "#New_claim['clean_review'] = clean_review(New_claim.Complaint.values)"
   ]
  },
  {
   "cell_type": "code",
   "execution_count": 64,
   "metadata": {},
   "outputs": [],
   "source": [
    "re_tok = re.compile(f'([{string.punctuation}“”¨«»®´·º½¾¿¡§£₤‘’])')\n",
    "def tokenize(s): return re_tok.sub(r' \\1 ', s).split()\n",
    "tokenizer = TweetTokenizer()"
   ]
  },
  {
   "cell_type": "code",
   "execution_count": 71,
   "metadata": {},
   "outputs": [
    {
     "data": {
      "text/plain": [
       "TfidfVectorizer(analyzer='word', binary=False, decode_error='strict',\n",
       "        dtype=<class 'numpy.int64'>, encoding='utf-8', input='content',\n",
       "        lowercase=True, max_df=0.98, max_features=50000, min_df=0.08,\n",
       "        ngram_range=(1, 3), norm='l2', preprocessor=None, smooth_idf=1,\n",
       "        stop_words=None, strip_accents='unicode', sublinear_tf=1,\n",
       "        token_pattern='(?u)\\\\b\\\\w\\\\w+\\\\b',\n",
       "        tokenizer=<function tokenize at 0x000001BF642C8158>, use_idf=1,\n",
       "        vocabulary=None)"
      ]
     },
     "execution_count": 71,
     "metadata": {},
     "output_type": "execute_result"
    }
   ],
   "source": [
    "#n = X_train.shape[0]\n",
    "vec = TfidfVectorizer(ngram_range=(1,3),tokenizer=tokenize,\n",
    "               min_df=.08, max_df=0.98, strip_accents='unicode', use_idf=1,\n",
    "               smooth_idf=1, sublinear_tf=1,analyzer='word',max_features=50000 )\n",
    "all_text = pd.concat([X_train.clean_review, X_test.clean_review])\n",
    "\n",
    "vec.fit(all_text)"
   ]
  },
  {
   "cell_type": "code",
   "execution_count": 66,
   "metadata": {},
   "outputs": [],
   "source": [
    "tokens = [t for t in str(X_train.clean_review).split()]\n",
    "freq = nltk.FreqDist(tokens)"
   ]
  },
  {
   "cell_type": "code",
   "execution_count": 118,
   "metadata": {},
   "outputs": [
    {
     "data": {
      "text/plain": [
       "DivCd                   object\n",
       "SubmSDt                  int64\n",
       "DealerCd                object\n",
       "ClmSeq                   int64\n",
       "ChassisID               object\n",
       "PltCd                   object\n",
       "ModelCd                 object\n",
       "BuildDt                 object\n",
       "DlvryDt                 object\n",
       "CustName                object\n",
       "ClmStat                  int64\n",
       "ClmType                 object\n",
       "TrkQty                   int64\n",
       "Miles                    int64\n",
       "RprDt                   object\n",
       "ApRejDt                 object\n",
       "RespCd                  object\n",
       "AssyCd                  object\n",
       "CmptCd                  object\n",
       "PartCd                  object\n",
       "FailCd                  object\n",
       "CmptBrand               object\n",
       "FailPN                  object\n",
       "VendorCd                object\n",
       "TotProPart             float64\n",
       "TotProLabor            float64\n",
       "TotProAmt              float64\n",
       "Complaint               object\n",
       "Cause                   object\n",
       "Corr1                   object\n",
       "                        ...   \n",
       "NSRno                   object\n",
       "XchgRate2LocalCur      float64\n",
       "ChassisDivCd            object\n",
       "ClaimQueue              object\n",
       "DT_InfoRtnDlr1           int64\n",
       "DT_InfoRtnDiv1           int64\n",
       "DT_InfoRtnDlr2           int64\n",
       "DT_InfoRtnDiv2           int64\n",
       "DT_DocShip               int64\n",
       "DT_PartRtnDlr1           int64\n",
       "DT_PartRtnDiv1           int64\n",
       "DT_PartRtnDlr2           int64\n",
       "DT_PartRtnDiv2           int64\n",
       "DT_PartShip              int64\n",
       "RepairOrderNo           object\n",
       "SubletNo                object\n",
       "DlrInitials             object\n",
       "DivMgrInitials          object\n",
       "GenLedgerNo_Std         object\n",
       "RequestedTotAmt          int64\n",
       "InternalComment1        object\n",
       "InternalComment2        object\n",
       "Div2DlrComment1         object\n",
       "Div2DlrComment2         object\n",
       "GenLedgerNo_ExtWarr     object\n",
       "GenLedgerNo_Policy      object\n",
       "FailedCmptModelNo       object\n",
       "FailedCmptSerialNo      object\n",
       "DT_PartReceived          int64\n",
       "EngineHours              int64\n",
       "Length: 70, dtype: object"
      ]
     },
     "execution_count": 118,
     "metadata": {},
     "output_type": "execute_result"
    }
   ],
   "source": [
    "#import operator\n",
    "#sorted(freq.items(), key=operator.itemgetter(1),reverse=True)\n",
    "New_claim.dtypes"
   ]
  },
  {
   "cell_type": "code",
   "execution_count": 69,
   "metadata": {},
   "outputs": [
    {
     "data": {
      "image/png": "[encoded data removed]",
      "text/plain": [
       "<Figure size 432x288 with 1 Axes>"
      ]
     },
     "metadata": {},
     "output_type": "display_data"
    }
   ],
   "source": [
    "freq.plot(20, cumulative=False)"
   ]
  },
  {
   "cell_type": "code",
   "execution_count": 72,
   "metadata": {},
   "outputs": [
    {
     "data": {
      "text/plain": [
       "[\"' air\",\n",
       " \"' air '\",\n",
       " \"' found\",\n",
       " \"' found '\",\n",
       " \"' inspect\",\n",
       " \"' inspect '\",\n",
       " \"' leak\",\n",
       " \"' leak '\",\n",
       " \"' p\",\n",
       " \"' p |\",\n",
       " \"' pre\",\n",
       " \"' pre '\",\n",
       " \"' truck\",\n",
       " \"' truck '\",\n",
       " 'air',\n",
       " \"air '\",\n",
       " 'check',\n",
       " \"check '\",\n",
       " 'found',\n",
       " \"found '\",\n",
       " 'inspect',\n",
       " \"inspect '\",\n",
       " 'leak',\n",
       " \"leak '\",\n",
       " 'p',\n",
       " 'p |',\n",
       " 'pre',\n",
       " \"pre '\",\n",
       " 'replac',\n",
       " \"replac '\",\n",
       " 'truck',\n",
       " \"truck '\",\n",
       " '|',\n",
       " '| found',\n",
       " \"| found '\",\n",
       " '| inspect']"
      ]
     },
     "execution_count": 72,
     "metadata": {},
     "output_type": "execute_result"
    }
   ],
   "source": [
    "vec.get_feature_names()"
   ]
  },
  {
   "cell_type": "code",
   "execution_count": 73,
   "metadata": {},
   "outputs": [],
   "source": [
    "trn_term_doc = vec.transform(X_train.clean_review)"
   ]
  },
  {
   "cell_type": "code",
   "execution_count": 74,
   "metadata": {},
   "outputs": [],
   "source": [
    "test_term_doc = vec.transform(X_test.clean_review)"
   ]
  },
  {
   "cell_type": "code",
   "execution_count": 75,
   "metadata": {},
   "outputs": [],
   "source": [
    "trn_term_doc = pd.DataFrame(pd.SparseDataFrame(trn_term_doc))\n",
    "test_term_doc =pd.DataFrame(pd.SparseDataFrame(test_term_doc))"
   ]
  },
  {
   "cell_type": "code",
   "execution_count": 76,
   "metadata": {},
   "outputs": [],
   "source": [
    "trn_term_doc[[\"TrkQty\",\"Miles\",\"TotProAmt\",\"RequestedTotAmt\"]]   = X_train[[\"TrkQty\",\"Miles\",\"TotProAmt\",\"RequestedTotAmt\"]]"
   ]
  },
  {
   "cell_type": "code",
   "execution_count": 77,
   "metadata": {},
   "outputs": [],
   "source": [
    "test_term_doc[[\"TrkQty\",\"Miles\",\"TotProAmt\",\"RequestedTotAmt\"]]   = X_test[[\"TrkQty\",\"Miles\",\"TotProAmt\",\"RequestedTotAmt\"]]"
   ]
  },
  {
   "cell_type": "code",
   "execution_count": null,
   "metadata": {},
   "outputs": [],
   "source": [
    "y_train"
   ]
  },
  {
   "cell_type": "code",
   "execution_count": 78,
   "metadata": {},
   "outputs": [],
   "source": [
    "trn_term_doc = trn_term_doc.fillna(0)\n",
    "test_term_doc = test_term_doc.fillna(0)"
   ]
  },
  {
   "cell_type": "code",
   "execution_count": 79,
   "metadata": {},
   "outputs": [],
   "source": [
    "logreg = LogisticRegression()"
   ]
  },
  {
   "cell_type": "code",
   "execution_count": 80,
   "metadata": {},
   "outputs": [
    {
     "data": {
      "text/plain": [
       "LogisticRegression(C=1.0, class_weight=None, dual=False, fit_intercept=True,\n",
       "          intercept_scaling=1, max_iter=100, multi_class='ovr', n_jobs=1,\n",
       "          penalty='l2', random_state=None, solver='liblinear', tol=0.0001,\n",
       "          verbose=0, warm_start=False)"
      ]
     },
     "execution_count": 80,
     "metadata": {},
     "output_type": "execute_result"
    }
   ],
   "source": [
    "logreg.fit(trn_term_doc,y_train)"
   ]
  },
  {
   "cell_type": "code",
   "execution_count": null,
   "metadata": {},
   "outputs": [],
   "source": [
    "y_class = logreg.predict(test_term_doc)"
   ]
  },
  {
   "cell_type": "code",
   "execution_count": 115,
   "metadata": {},
   "outputs": [],
   "source": [
    "prob = logreg.predict_proba(test_term_doc)\n",
    "preds_class = pd.Series(np.where(logreg.predict_proba(test_term_doc)[:,1] >= .50, 1, 0))\n"
   ]
  },
  {
   "cell_type": "code",
   "execution_count": 85,
   "metadata": {},
   "outputs": [
    {
     "name": "stdout",
     "output_type": "stream",
     "text": [
      "Cross-validation mean accuracy 92.06%, std 0.00.\n"
     ]
    }
   ],
   "source": [
    "scores = cross_val_score(logreg, trn_term_doc,y_train, scoring='accuracy', n_jobs=-1, cv=5)\n",
    "print('Cross-validation mean accuracy {0:.2f}%, std {1:.2f}.'.format(np.mean(scores) * 100, np.std(scores) * 100))"
   ]
  },
  {
   "cell_type": "code",
   "execution_count": null,
   "metadata": {},
   "outputs": [],
   "source": [
    "?confusion_matrix"
   ]
  },
  {
   "cell_type": "code",
   "execution_count": 116,
   "metadata": {},
   "outputs": [],
   "source": [
    "tn, fp, fn, tp = confusion_matrix(y_test,preds_class).ravel()"
   ]
  },
  {
   "cell_type": "code",
   "execution_count": 117,
   "metadata": {},
   "outputs": [
    {
     "data": {
      "text/plain": [
       "(41720, 0, 3662, 0)"
      ]
     },
     "execution_count": 117,
     "metadata": {},
     "output_type": "execute_result"
    }
   ],
   "source": [
    "tn, fp, fn, tp"
   ]
  },
  {
   "cell_type": "code",
   "execution_count": null,
   "metadata": {},
   "outputs": [],
   "source": [
    "y_test.sum()"
   ]
  },
  {
   "cell_type": "code",
   "execution_count": null,
   "metadata": {},
   "outputs": [],
   "source": [
    "svc = LinearSVC(dual=False)\n",
    "scores = cross_val_score(svc, trn_term_doc, y_train, scoring='accuracy', n_jobs=-1, cv=5)\n",
    "print('Cross-validation mean accuracy {0:.2f}%, std {1:.2f}.'.format(np.mean(scores) * 100, np.std(scores) * 100))"
   ]
  },
  {
   "cell_type": "code",
   "execution_count": 33,
   "metadata": {},
   "outputs": [
    {
     "name": "stderr",
     "output_type": "stream",
     "text": [
      "[Parallel(n_jobs=1)]: Done 300 out of 300 | elapsed:   53.5s finished\n"
     ]
    },
    {
     "data": {
      "text/plain": [
       "RandomForestClassifier(bootstrap=True, class_weight=None, criterion='gini',\n",
       "            max_depth=20, max_features='auto', max_leaf_nodes=None,\n",
       "            min_impurity_decrease=0.0, min_impurity_split=None,\n",
       "            min_samples_leaf=1, min_samples_split=2,\n",
       "            min_weight_fraction_leaf=0.0, n_estimators=300, n_jobs=1,\n",
       "            oob_score=True, random_state=123456, verbose=True,\n",
       "            warm_start=False)"
      ]
     },
     "execution_count": 33,
     "metadata": {},
     "output_type": "execute_result"
    }
   ],
   "source": [
    "rf = RandomForestClassifier(n_estimators=300,max_depth=20,max_leaf_nodes=None, oob_score=True,verbose= True, random_state=123456)\n",
    "rf.fit(trn_term_doc, y_train)"
   ]
  },
  {
   "cell_type": "code",
   "execution_count": 34,
   "metadata": {},
   "outputs": [
    {
     "name": "stderr",
     "output_type": "stream",
     "text": [
      "[Parallel(n_jobs=1)]: Done 300 out of 300 | elapsed:    1.5s finished\n",
      "[Parallel(n_jobs=1)]: Done 300 out of 300 | elapsed:    1.5s finished\n"
     ]
    }
   ],
   "source": [
    "predicted = rf.predict_proba(test_term_doc)\n",
    "predsrf_class = pd.Series(np.where(rf.predict_proba(test_term_doc)[:,1] >= .1, 1, 0))"
   ]
  },
  {
   "cell_type": "code",
   "execution_count": 35,
   "metadata": {},
   "outputs": [],
   "source": [
    "tn, fp, fn, tp = confusion_matrix(y_test,predsrf_class).ravel()"
   ]
  },
  {
   "cell_type": "code",
   "execution_count": 36,
   "metadata": {},
   "outputs": [
    {
     "data": {
      "text/plain": [
       "(31855, 9880, 2344, 1303)"
      ]
     },
     "execution_count": 36,
     "metadata": {},
     "output_type": "execute_result"
    }
   ],
   "source": [
    "tn, fp, fn, tp "
   ]
  },
  {
   "cell_type": "code",
   "execution_count": null,
   "metadata": {},
   "outputs": [],
   "source": [
    "import matplotlib.pyplot as plt\n",
    "\n",
    "%matplotlib inline\n",
    "plt.hist(predicted, normed=True, bins=30)\n",
    "plt.ylabel('Probability');"
   ]
  },
  {
   "cell_type": "code",
   "execution_count": 37,
   "metadata": {},
   "outputs": [],
   "source": [
    "pred= np.mean([predicted[:,1], prob[:,1]], axis=0)\n"
   ]
  },
  {
   "cell_type": "code",
   "execution_count": 49,
   "metadata": {},
   "outputs": [],
   "source": [
    "pred_ens =pd.Series(np.where(pred>=.2,1,0))"
   ]
  },
  {
   "cell_type": "code",
   "execution_count": 50,
   "metadata": {},
   "outputs": [
    {
     "data": {
      "text/plain": [
       "(12785, 28950, 645, 3002)"
      ]
     },
     "execution_count": 50,
     "metadata": {},
     "output_type": "execute_result"
    }
   ],
   "source": [
    "tn, fp, fn, tp = confusion_matrix(y_test,pred_ens).ravel()\n",
    "tn, fp, fn, tp "
   ]
  },
  {
   "cell_type": "code",
   "execution_count": null,
   "metadata": {},
   "outputs": [],
   "source": []
  }
 ],
 "metadata": {
  "kernelspec": {
   "display_name": "Python 3",
   "language": "python",
   "name": "python3"
  },
  "language_info": {
   "codemirror_mode": {
    "name": "ipython",
    "version": 3
   },
   "file_extension": ".py",
   "mimetype": "text/x-python",
   "name": "python",
   "nbconvert_exporter": "python",
   "pygments_lexer": "ipython3",
   "version": "3.6.5"
  }
 },
 "nbformat": 4,
 "nbformat_minor": 2
}
