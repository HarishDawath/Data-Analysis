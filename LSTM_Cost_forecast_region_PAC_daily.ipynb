{
 "cells": [
  {
   "cell_type": "code",
   "execution_count": 2,
   "metadata": {},
   "outputs": [
    {
     "name": "stderr",
     "output_type": "stream",
     "text": [
      "C:\\ProgramData\\Anaconda3\\lib\\site-packages\\h5py\\__init__.py:36: FutureWarning: Conversion of the second argument of issubdtype from `float` to `np.floating` is deprecated. In future, it will be treated as `np.float64 == np.dtype(float).type`.\n",
      "  from ._conv import register_converters as _register_converters\n",
      "Using TensorFlow backend.\n"
     ]
    }
   ],
   "source": [
    "# LSTM for international airline passengers problem with regression framing\n",
    "import numpy as np\n",
    "import numpy \n",
    "import matplotlib.pyplot as plt\n",
    "from pandas import read_csv\n",
    "import math\n",
    "from keras.models import Sequential\n",
    "from keras.layers import Dense\n",
    "from keras.layers import LSTM,Dropout,Activation\n",
    "from sklearn.preprocessing import MinMaxScaler\n",
    "from sklearn.metrics import mean_squared_error\n",
    "import pandas as pd\n"
   ]
  },
  {
   "cell_type": "code",
   "execution_count": 3,
   "metadata": {},
   "outputs": [],
   "source": [
    "# convert an array of values into a dataset matrix\n",
    "def create_dataset(dataset, look_back=1):\n",
    "\tdataX, dataY = [], []\n",
    "\tfor i in range(len(dataset)-look_back-1):\n",
    "\t\ta = dataset[i:(i+look_back), 0]\n",
    "\t\tdataX.append(a)\n",
    "\t\tdataY.append(dataset[i + look_back, 0])\n",
    "\treturn numpy.array(dataX), numpy.array(dataY)\n"
   ]
  },
  {
   "cell_type": "code",
   "execution_count": 32,
   "metadata": {},
   "outputs": [],
   "source": [
    "# fix random seed for reproducibility\n",
    "numpy.random.seed(7)\n",
    "# load the dataset\n",
    "New_claim = pd.read_csv('D:/PACCAR/Primary tables/dbo.NewClaims_table.csv',usecols=[\"RprDt\",\"TotProAmt\",\"RequestedTotAmt\",\"DealerCd\"])"
   ]
  },
  {
   "cell_type": "code",
   "execution_count": 33,
   "metadata": {},
   "outputs": [
    {
     "name": "stderr",
     "output_type": "stream",
     "text": [
      "C:\\ProgramData\\Anaconda3\\lib\\site-packages\\ipykernel_launcher.py:2: SettingWithCopyWarning: \n",
      "A value is trying to be set on a copy of a slice from a DataFrame\n",
      "\n",
      "See the caveats in the documentation: http://pandas.pydata.org/pandas-docs/stable/indexing.html#indexing-view-versus-copy\n",
      "  \n"
     ]
    }
   ],
   "source": [
    "New_claim['Region'] = \"Americas\"\n",
    "New_claim.Region[New_claim.DealerCd.map(lambda x: x.startswith('P'))] = \"PAC\"\n",
    "#New_claim = New_claim[New_claim.Region == \"PAC\"]"
   ]
  },
  {
   "cell_type": "code",
   "execution_count": 34,
   "metadata": {},
   "outputs": [],
   "source": [
    "New_claim.RprDt = New_claim.RprDt.astype('datetime64[ns]')\n",
    "New_claim= New_claim[New_claim.RprDt < '2017-4-1']\n",
    "New_cl = New_claim[['RprDt','TotProAmt']].assign(Timestamp=pd.to_datetime(New_claim.RprDt, unit='ms')).resample('D', on='Timestamp').sum().reset_index().interpolate()\n"
   ]
  },
  {
   "cell_type": "code",
   "execution_count": 35,
   "metadata": {},
   "outputs": [
    {
     "name": "stderr",
     "output_type": "stream",
     "text": [
      "C:\\ProgramData\\Anaconda3\\lib\\site-packages\\ipykernel_launcher.py:2: SettingWithCopyWarning: \n",
      "A value is trying to be set on a copy of a slice from a DataFrame\n",
      "\n",
      "See the caveats in the documentation: http://pandas.pydata.org/pandas-docs/stable/indexing.html#indexing-view-versus-copy\n",
      "  \n"
     ]
    }
   ],
   "source": [
    "New_cl['year'] = New_cl.Timestamp.dt.year\n",
    "New_cl.TotProAmt[New_cl.TotProAmt==0] = np.nan\n",
    "New_cl['TotProAmt'].fillna(New_cl.groupby(\"year\")[\"TotProAmt\"].transform(\"mean\"), inplace=True)\n",
    "New_cl = New_cl.drop('year',axis=1)\n",
    "New_cl = New_cl.drop('Timestamp',axis=1)\n",
    "New_cl = New_cl.fillna(1082)\n",
    "\n",
    "#del(New_claim)"
   ]
  },
  {
   "cell_type": "code",
   "execution_count": 36,
   "metadata": {},
   "outputs": [],
   "source": [
    "\n",
    "dataset = New_cl.values\n",
    "dataset = dataset.astype('float32')\n",
    "# normalize the dataset\n",
    "scaler = MinMaxScaler(feature_range=(0, 1))\n",
    "dataset = scaler.fit_transform(dataset)\n",
    "# split into train and test sets\n",
    "train_size = int(len(dataset) * 0.95)\n",
    "test_size = len(dataset) - train_size\n",
    "train, test = dataset[0:train_size,:], dataset[train_size:len(dataset),:]\n",
    "# reshape into X=t and Y=t+1\n",
    "look_back = 1\n",
    "trainX, trainY = create_dataset(train, look_back)\n",
    "testX, testY = create_dataset(test, look_back)\n"
   ]
  },
  {
   "cell_type": "code",
   "execution_count": 37,
   "metadata": {},
   "outputs": [],
   "source": [
    "# reshape input to be [samples, time steps, features]\n",
    "trainX = numpy.reshape(trainX, (trainX.shape[0], 1, trainX.shape[1]))\n",
    "testX = numpy.reshape(testX, (testX.shape[0], 1, testX.shape[1]))\n"
   ]
  },
  {
   "cell_type": "code",
   "execution_count": 38,
   "metadata": {
    "scrolled": true
   },
   "outputs": [
    {
     "name": "stdout",
     "output_type": "stream",
     "text": [
      "Epoch 1/100\n",
      " - 9s - loss: 0.0014\n",
      "Epoch 2/100\n",
      " - 8s - loss: 0.0013\n",
      "Epoch 3/100\n",
      " - 7s - loss: 0.0012\n",
      "Epoch 4/100\n",
      " - 8s - loss: 0.0011\n",
      "Epoch 5/100\n",
      " - 8s - loss: 0.0010\n",
      "Epoch 6/100\n",
      " - 8s - loss: 9.6752e-04\n",
      "Epoch 7/100\n",
      " - 8s - loss: 9.2710e-04\n",
      "Epoch 8/100\n",
      " - 8s - loss: 9.1756e-04\n",
      "Epoch 9/100\n",
      " - 8s - loss: 8.9575e-04\n",
      "Epoch 10/100\n",
      " - 8s - loss: 9.0266e-04\n",
      "Epoch 11/100\n",
      " - 8s - loss: 9.0327e-04\n",
      "Epoch 12/100\n",
      " - 8s - loss: 8.8594e-04\n",
      "Epoch 13/100\n",
      " - 8s - loss: 8.8699e-04\n",
      "Epoch 14/100\n",
      " - 8s - loss: 8.8115e-04\n",
      "Epoch 15/100\n",
      " - 8s - loss: 8.7222e-04\n",
      "Epoch 16/100\n",
      " - 8s - loss: 8.7866e-04\n",
      "Epoch 17/100\n",
      " - 8s - loss: 8.7044e-04\n",
      "Epoch 18/100\n",
      " - 8s - loss: 8.5804e-04\n",
      "Epoch 19/100\n",
      " - 8s - loss: 8.6664e-04\n",
      "Epoch 20/100\n",
      " - 8s - loss: 8.6264e-04\n",
      "Epoch 21/100\n",
      " - 8s - loss: 8.7181e-04\n",
      "Epoch 22/100\n",
      " - 8s - loss: 8.6119e-04\n",
      "Epoch 23/100\n",
      " - 8s - loss: 8.4980e-04\n",
      "Epoch 24/100\n",
      " - 8s - loss: 8.4490e-04\n",
      "Epoch 25/100\n",
      " - 8s - loss: 8.3874e-04\n",
      "Epoch 26/100\n",
      " - 8s - loss: 8.4487e-04\n",
      "Epoch 27/100\n",
      " - 8s - loss: 8.4761e-04\n",
      "Epoch 28/100\n",
      " - 8s - loss: 8.4115e-04\n",
      "Epoch 29/100\n",
      " - 8s - loss: 8.3145e-04\n",
      "Epoch 30/100\n",
      " - 8s - loss: 8.3071e-04\n",
      "Epoch 31/100\n",
      " - 8s - loss: 8.3230e-04\n",
      "Epoch 32/100\n",
      " - 8s - loss: 8.4216e-04\n",
      "Epoch 33/100\n",
      " - 8s - loss: 8.3470e-04\n",
      "Epoch 34/100\n",
      " - 8s - loss: 8.2697e-04\n",
      "Epoch 35/100\n",
      " - 8s - loss: 8.3996e-04\n",
      "Epoch 36/100\n",
      " - 8s - loss: 8.2678e-04\n",
      "Epoch 37/100\n",
      " - 8s - loss: 8.3252e-04\n",
      "Epoch 38/100\n",
      " - 8s - loss: 8.4072e-04\n",
      "Epoch 39/100\n",
      " - 8s - loss: 8.3312e-04\n",
      "Epoch 40/100\n",
      " - 8s - loss: 8.1647e-04\n",
      "Epoch 41/100\n",
      " - 8s - loss: 8.2322e-04\n",
      "Epoch 42/100\n",
      " - 8s - loss: 8.3256e-04\n",
      "Epoch 43/100\n",
      " - 8s - loss: 8.3143e-04\n",
      "Epoch 44/100\n",
      " - 8s - loss: 8.2359e-04\n",
      "Epoch 45/100\n",
      " - 8s - loss: 8.2332e-04\n",
      "Epoch 46/100\n",
      " - 8s - loss: 8.2456e-04\n",
      "Epoch 47/100\n",
      " - 8s - loss: 8.2158e-04\n",
      "Epoch 48/100\n",
      " - 8s - loss: 8.2233e-04\n",
      "Epoch 49/100\n",
      " - 8s - loss: 8.2414e-04\n",
      "Epoch 50/100\n",
      " - 8s - loss: 8.2359e-04\n",
      "Epoch 51/100\n",
      " - 8s - loss: 8.2832e-04\n",
      "Epoch 52/100\n",
      " - 8s - loss: 8.2072e-04\n",
      "Epoch 53/100\n",
      " - 8s - loss: 8.2647e-04\n",
      "Epoch 54/100\n",
      " - 8s - loss: 8.2609e-04\n",
      "Epoch 55/100\n",
      " - 8s - loss: 8.2391e-04\n",
      "Epoch 56/100\n",
      " - 8s - loss: 8.1881e-04\n",
      "Epoch 57/100\n",
      " - 8s - loss: 8.1553e-04\n",
      "Epoch 58/100\n",
      " - 8s - loss: 8.2771e-04\n",
      "Epoch 59/100\n",
      " - 8s - loss: 8.2053e-04\n",
      "Epoch 60/100\n",
      " - 8s - loss: 8.1444e-04\n",
      "Epoch 61/100\n",
      " - 8s - loss: 8.2266e-04\n",
      "Epoch 62/100\n",
      " - 8s - loss: 8.1752e-04\n",
      "Epoch 63/100\n",
      " - 8s - loss: 8.0953e-04\n",
      "Epoch 64/100\n",
      " - 8s - loss: 8.1191e-04\n",
      "Epoch 65/100\n",
      " - 8s - loss: 8.2534e-04\n",
      "Epoch 66/100\n",
      " - 8s - loss: 8.2301e-04\n",
      "Epoch 67/100\n",
      " - 8s - loss: 8.1208e-04\n",
      "Epoch 68/100\n",
      " - 8s - loss: 8.1304e-04\n",
      "Epoch 69/100\n",
      " - 8s - loss: 8.0741e-04\n",
      "Epoch 70/100\n",
      " - 8s - loss: 8.1108e-04\n",
      "Epoch 71/100\n",
      " - 8s - loss: 8.0625e-04\n",
      "Epoch 72/100\n",
      " - 8s - loss: 8.0678e-04\n",
      "Epoch 73/100\n",
      " - 7s - loss: 8.2695e-04\n",
      "Epoch 74/100\n",
      " - 8s - loss: 8.0975e-04\n",
      "Epoch 75/100\n",
      " - 8s - loss: 8.0981e-04\n",
      "Epoch 76/100\n",
      " - 8s - loss: 8.1120e-04\n",
      "Epoch 77/100\n",
      " - 8s - loss: 8.1465e-04\n",
      "Epoch 78/100\n",
      " - 8s - loss: 8.0941e-04\n",
      "Epoch 79/100\n",
      " - 7s - loss: 8.1607e-04\n",
      "Epoch 80/100\n",
      " - 8s - loss: 8.2265e-04\n",
      "Epoch 81/100\n",
      " - 7s - loss: 8.1344e-04\n",
      "Epoch 82/100\n",
      " - 7s - loss: 8.1329e-04\n",
      "Epoch 83/100\n",
      " - 7s - loss: 8.1417e-04\n",
      "Epoch 84/100\n",
      " - 7s - loss: 8.1328e-04\n",
      "Epoch 85/100\n",
      " - 8s - loss: 8.1547e-04\n",
      "Epoch 86/100\n",
      " - 7s - loss: 8.0147e-04\n",
      "Epoch 87/100\n",
      " - 7s - loss: 8.0314e-04\n",
      "Epoch 88/100\n",
      " - 8s - loss: 8.1278e-04\n",
      "Epoch 89/100\n",
      " - 7s - loss: 7.9584e-04\n",
      "Epoch 90/100\n",
      " - 7s - loss: 8.0678e-04\n",
      "Epoch 91/100\n",
      " - 7s - loss: 8.0277e-04\n",
      "Epoch 92/100\n",
      " - 7s - loss: 8.0495e-04\n",
      "Epoch 93/100\n",
      " - 7s - loss: 8.1013e-04\n",
      "Epoch 94/100\n",
      " - 7s - loss: 7.9824e-04\n",
      "Epoch 95/100\n",
      " - 8s - loss: 8.1132e-04\n",
      "Epoch 96/100\n",
      " - 8s - loss: 8.0638e-04\n",
      "Epoch 97/100\n",
      " - 8s - loss: 8.0462e-04\n",
      "Epoch 98/100\n",
      " - 8s - loss: 8.0983e-04\n",
      "Epoch 99/100\n",
      " - 8s - loss: 8.1147e-04\n",
      "Epoch 100/100\n",
      " - 8s - loss: 8.1410e-04\n"
     ]
    },
    {
     "data": {
      "text/plain": [
       "<keras.callbacks.History at 0x240f2294278>"
      ]
     },
     "execution_count": 38,
     "metadata": {},
     "output_type": "execute_result"
    }
   ],
   "source": [
    "# create and fit the LSTM network\n",
    "model = Sequential()\n",
    "layers = [1, 50, 100, 1]\n",
    "model.add(LSTM(layers[1],input_shape=(1, look_back),return_sequences=True))\n",
    "model.add(Dropout(0.2))\n",
    "model.add(LSTM(layers[2],return_sequences=False))\n",
    "model.add(Dropout(0.2))\n",
    "model.add(Dense(layers[3]))\n",
    "model.add(Activation(\"linear\"))\n",
    "model.compile(loss='mean_squared_error', optimizer='adam')\n",
    "model.fit(trainX, trainY, epochs=100, batch_size=1, verbose=2)\n"
   ]
  },
  {
   "cell_type": "code",
   "execution_count": 39,
   "metadata": {},
   "outputs": [],
   "source": [
    "# make predictions\n",
    "trainPredict = model.predict(trainX)\n",
    "testPredict = model.predict(testX)\n",
    "testP =testPredict\n",
    "test_y = testY"
   ]
  },
  {
   "cell_type": "code",
   "execution_count": 40,
   "metadata": {},
   "outputs": [
    {
     "name": "stdout",
     "output_type": "stream",
     "text": [
      "Train Score: 266.29 RMSE\n",
      "Test Score: 1167.83 RMSE\n"
     ]
    },
    {
     "data": {
      "image/png": "[encoded data removed]",
      "text/plain": [
       "<Figure size 432x288 with 1 Axes>"
      ]
     },
     "metadata": {},
     "output_type": "display_data"
    }
   ],
   "source": [
    "# invert predictions\n",
    "trainPredict = scaler.inverse_transform(trainPredict)\n",
    "trainY = scaler.inverse_transform([trainY])\n",
    "testPredict = scaler.inverse_transform(testPredict)\n",
    "testY = scaler.inverse_transform([testY])\n",
    "# calculate root mean squared error\n",
    "trainScore = math.sqrt(mean_squared_error(trainY[0], trainPredict[:,0]))\n",
    "print('Train Score: %.2f RMSE' % (trainScore))\n",
    "testScore = math.sqrt(mean_squared_error(testY[0], testPredict[:,0]))\n",
    "print('Test Score: %.2f RMSE' % (testScore))\n",
    "# shift train predictions for plotting\n",
    "trainPredictPlot = numpy.empty_like(dataset)\n",
    "trainPredictPlot[:, :] = numpy.nan\n",
    "trainPredictPlot[look_back:len(trainPredict)+look_back, :] = trainPredict\n",
    "# shift test predictions for plotting\n",
    "testPredictPlot = numpy.empty_like(dataset)\n",
    "testPredictPlot[:, :] = numpy.nan\n",
    "testPredictPlot[len(trainPredict)+(look_back*2)+1:len(dataset)-1, :] = testPredict\n",
    "# plot baseline and predictions\n",
    "plt.plot(scaler.inverse_transform(dataset))\n",
    "plt.plot(trainPredictPlot)\n",
    "plt.plot(testPredictPlot)\n",
    "plt.show()"
   ]
  },
  {
   "cell_type": "code",
   "execution_count": 43,
   "metadata": {},
   "outputs": [
    {
     "data": {
      "image/png": "[encoded data removed]",
      "text/plain": [
       "<Figure size 432x288 with 1 Axes>"
      ]
     },
     "metadata": {},
     "output_type": "display_data"
    }
   ],
   "source": [
    "plt.plot((dataset))\n",
    "#plt.plot(trainPredictPlot)\n",
    "plt.plot(testPredictPlot)\n",
    "plt.show()"
   ]
  },
  {
   "cell_type": "code",
   "execution_count": 41,
   "metadata": {},
   "outputs": [
    {
     "data": {
      "image/png": "[encoded data removed]",
      "text/plain": [
       "<Figure size 432x288 with 1 Axes>"
      ]
     },
     "metadata": {},
     "output_type": "display_data"
    }
   ],
   "source": [
    "plt.plot((testPredict.reshape(-1,1)),color='blue')\n",
    "plt.show()"
   ]
  },
  {
   "cell_type": "code",
   "execution_count": 42,
   "metadata": {},
   "outputs": [
    {
     "data": {
      "image/png": "[encoded data removed]",
      "text/plain": [
       "<Figure size 432x288 with 1 Axes>"
      ]
     },
     "metadata": {},
     "output_type": "display_data"
    }
   ],
   "source": [
    "plt.plot((testY.reshape(-1,1)),color='red')\n",
    "plt.show()"
   ]
  },
  {
   "cell_type": "code",
   "execution_count": null,
   "metadata": {},
   "outputs": [],
   "source": [
    "actulclaim = (testY.reshape(-1,1))\n",
    "pred = (testPredict.reshape(-1,1))"
   ]
  },
  {
   "cell_type": "code",
   "execution_count": null,
   "metadata": {
    "scrolled": true
   },
   "outputs": [],
   "source": [
    "actulclaim"
   ]
  },
  {
   "cell_type": "code",
   "execution_count": null,
   "metadata": {},
   "outputs": [],
   "source": [
    "pred_df = pd.DataFrame(actulclaim)"
   ]
  },
  {
   "cell_type": "code",
   "execution_count": null,
   "metadata": {},
   "outputs": [],
   "source": [
    "pred_df['predicted'] = pd.DataFrame(pred)"
   ]
  },
  {
   "cell_type": "code",
   "execution_count": null,
   "metadata": {},
   "outputs": [],
   "source": [
    "pred_df.to_csv('D:/PACCAR/Primary tables/pred_results_ts.csv')"
   ]
  },
  {
   "cell_type": "code",
   "execution_count": null,
   "metadata": {},
   "outputs": [],
   "source": [
    "New_cl"
   ]
  },
  {
   "cell_type": "code",
   "execution_count": null,
   "metadata": {},
   "outputs": [],
   "source": []
  }
 ],
 "metadata": {
  "kernelspec": {
   "display_name": "Python 3",
   "language": "python",
   "name": "python3"
  },
  "language_info": {
   "codemirror_mode": {
    "name": "ipython",
    "version": 3
   },
   "file_extension": ".py",
   "mimetype": "text/x-python",
   "name": "python",
   "nbconvert_exporter": "python",
   "pygments_lexer": "ipython3",
   "version": "3.6.5"
  }
 },
 "nbformat": 4,
 "nbformat_minor": 2
}
